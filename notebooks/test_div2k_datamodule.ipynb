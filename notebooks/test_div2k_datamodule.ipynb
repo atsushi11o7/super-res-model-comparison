{
 "cells": [
  {
   "cell_type": "code",
   "execution_count": 10,
   "metadata": {},
   "outputs": [
    {
     "ename": "ImportError",
     "evalue": "attempted relative import with no known parent package",
     "output_type": "error",
     "traceback": [
      "\u001b[0;31m---------------------------------------------------------------------------\u001b[0m",
      "\u001b[0;31mImportError\u001b[0m                               Traceback (most recent call last)",
      "Cell \u001b[0;32mIn[10], line 2\u001b[0m\n\u001b[1;32m      1\u001b[0m \u001b[38;5;28;01mimport\u001b[39;00m \u001b[38;5;21;01munittest\u001b[39;00m\n\u001b[0;32m----> 2\u001b[0m \u001b[38;5;28;01mfrom\u001b[39;00m \u001b[38;5;21;01m.\u001b[39;00m\u001b[38;5;21;01m.\u001b[39;00m\u001b[38;5;21;01msrc\u001b[39;00m\u001b[38;5;21;01m.\u001b[39;00m\u001b[38;5;21;01mdatamodules\u001b[39;00m\u001b[38;5;21;01m.\u001b[39;00m\u001b[38;5;21;01mdiv2k_datamodule\u001b[39;00m \u001b[38;5;28;01mimport\u001b[39;00m SuperResolutionDataModule\n\u001b[1;32m      4\u001b[0m \u001b[38;5;28;01mif\u001b[39;00m \u001b[38;5;18m__name__\u001b[39m \u001b[38;5;241m==\u001b[39m \u001b[38;5;124m\"\u001b[39m\u001b[38;5;124m__main__\u001b[39m\u001b[38;5;124m\"\u001b[39m:\n\u001b[1;32m      5\u001b[0m     train_low_dirs \u001b[38;5;241m=\u001b[39m [\u001b[38;5;124m\"\u001b[39m\u001b[38;5;124m../data/DIV2K/DIV2K_train_LR_bicubic/X4\u001b[39m\u001b[38;5;124m\"\u001b[39m]\n",
      "\u001b[0;31mImportError\u001b[0m: attempted relative import with no known parent package"
     ]
    }
   ],
   "source": [
    "import unittest\n",
    "from ..src.datamodules.div2k_datamodule import SuperResolutionDataModule\n",
    "\n",
    "if __name__ == \"__main__\":\n",
    "    train_low_dirs = [\"../data/DIV2K/DIV2K_train_LR_bicubic/X4\"]\n",
    "    train_high_dir = \"../data/DIV2K/DIV2K_train_HR\"\n",
    "    val_low_dirs = [\"../data/DIV2K/DIV2K_valid_LR_bicubic/X4\"]\n",
    "    val_high_dir = \"../data/DIV2K/DIV2K_valid_HR\"\n",
    "\n",
    "    data_module = SuperResolutionDataModule(\n",
    "        train_low_dirs, train_high_dir,\n",
    "        val_low_dirs, val_high_dir,\n",
    "        batch_size=2, num_workers=0\n",
    "    )\n",
    "\n",
    "    data_module.setup()\n",
    "    train_loader = data_module.train_dataloader()\n",
    "    \n",
    "    for batch in train_loader:\n",
    "        low_res, high_res = batch\n",
    "        plt.subplot(1, 2, 1)\n",
    "        plt.imshow(low_res[0].permute(1, 2, 0).numpy())\n",
    "        plt.subplot(1, 2, 2)\n",
    "        plt.imshow(high_res[0].permute(1, 2, 0).numpy())\n",
    "        plt.show()\n",
    "        break"
   ]
  }
 ],
 "metadata": {
  "kernelspec": {
   "display_name": "Python 3",
   "language": "python",
   "name": "python3"
  },
  "language_info": {
   "codemirror_mode": {
    "name": "ipython",
    "version": 3
   },
   "file_extension": ".py",
   "mimetype": "text/x-python",
   "name": "python",
   "nbconvert_exporter": "python",
   "pygments_lexer": "ipython3",
   "version": "3.10.12"
  }
 },
 "nbformat": 4,
 "nbformat_minor": 2
}
